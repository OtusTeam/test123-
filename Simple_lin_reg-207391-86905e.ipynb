{
 "cells": [
  {
   "cell_type": "code",
   "execution_count": null,
   "id": "72748878",
   "metadata": {},
   "outputs": [],
   "source": [
    "import numpy as np\n",
    "import matplotlib.pyplot as plt\n",
    "from scipy.stats import chi2, t, norm"
   ]
  },
  {
   "cell_type": "code",
   "execution_count": null,
   "id": "e93a6ba7",
   "metadata": {},
   "outputs": [],
   "source": [
    "def sample_generator(alpha, beta, n_pts):\n",
    "    sigma = 5\n",
    "    error = np.random.normal(0, sigma, n_pts)\n",
    "    x = np.random.rand(n_pts) * 10\n",
    "    y = alpha + beta * x + error\n",
    "    return x, y\n",
    "\n",
    "\n",
    "def model_linear(x, vec):\n",
    "    vec[0] = 1\n",
    "    vec[1] = x\n",
    "    return vec\n",
    "    \n",
    "    \n",
    "def model_construct(x, func, dim):\n",
    "    n = x.shape[0]\n",
    "    A = np.empty((n, dim))\n",
    "    for i in range(0, n):\n",
    "        func(x[i], A[i,:])\n",
    "    return A\n",
    "\n",
    "\n",
    "def normal_equation(A, Y):\n",
    "    return np.linalg.inv(A.T @ A) @ A.T @ Y"
   ]
  },
  {
   "cell_type": "code",
   "execution_count": null,
   "id": "b44dda8c",
   "metadata": {},
   "outputs": [],
   "source": [
    "alpha_true = 1.2\n",
    "beta_true = 0.8\n",
    "number_of_points = 30\n",
    "n = 30\n",
    "x_domain = np.linspace(0,10,1000)\n",
    "curve_true = alpha_true + beta_true * x_domain"
   ]
  },
  {
   "cell_type": "code",
   "execution_count": null,
   "id": "67561315",
   "metadata": {},
   "outputs": [],
   "source": [
    "x_1, y_1 = sample_generator(alpha_true, beta_true, number_of_points)\n",
    "x_2, y_2 = sample_generator(alpha_true, beta_true, number_of_points)"
   ]
  },
  {
   "cell_type": "code",
   "execution_count": null,
   "id": "d0952725",
   "metadata": {},
   "outputs": [],
   "source": [
    "plt.figure(figsize=(15,10))\n",
    "plt.scatter(x_1, y_1, label = 'generated data')\n",
    "plt.plot(x_domain, curve_true, label = 'true model')\n",
    "  \n",
    "plt.rc('legend', fontsize=20)    \n",
    "plt.legend()\n",
    "\n",
    "plt.ylabel('Y')\n",
    "plt.xlabel('X')\n",
    "plt.title('Generated data and _true_ curve', fontsize=14)"
   ]
  },
  {
   "cell_type": "code",
   "execution_count": null,
   "id": "da766682",
   "metadata": {},
   "outputs": [],
   "source": [
    "A_1 = model_construct(x_1, model_linear, 2)\n",
    "wts_1 = normal_equation(A_1, y_1)\n",
    "approx_curve_1 = wts_1[0] + x_domain * wts_1[1]"
   ]
  },
  {
   "cell_type": "code",
   "execution_count": null,
   "id": "de4f8376",
   "metadata": {},
   "outputs": [],
   "source": [
    "A_2 = model_construct(x_2, model_linear, 2)\n",
    "wts_2 = normal_equation(A_2, y_2)\n",
    "approx_curve_2 = wts_2[0] + x_domain * wts_2[1]"
   ]
  },
  {
   "cell_type": "code",
   "execution_count": null,
   "id": "1dc9b9cf",
   "metadata": {},
   "outputs": [],
   "source": [
    "A_3 = np.vstack((A_1, A_2))"
   ]
  },
  {
   "cell_type": "code",
   "execution_count": null,
   "id": "c85a0ab7",
   "metadata": {},
   "outputs": [],
   "source": [
    "y_3 = np.concatenate((y_1, y_2))"
   ]
  },
  {
   "cell_type": "code",
   "execution_count": null,
   "id": "b8ccbd05",
   "metadata": {},
   "outputs": [],
   "source": [
    "wts_3 = normal_equation(A_3, y_3)\n",
    "approx_curve_3 = wts_3[0] + x_domain * wts_3[1]"
   ]
  },
  {
   "cell_type": "code",
   "execution_count": null,
   "id": "fc8af22e",
   "metadata": {},
   "outputs": [],
   "source": [
    "plt.figure(figsize=(15,10))\n",
    "plt.scatter(x_1, y_1, label = 'Generated data 1')\n",
    "plt.scatter(x_2, y_2, label = 'Generated data 2')\n",
    "plt.plot(x_domain, curve_true, color='red', label = 'True model')\n",
    "plt.plot(x_domain, approx_curve_1, label = 'Fitted line 1')\n",
    "plt.plot(x_domain, approx_curve_2, label = 'Fitted line 2')\n",
    "plt.plot(x_domain, approx_curve_3, label = 'Fitted line 3')\n",
    "\n",
    "plt.rc('legend', fontsize=20)\n",
    "plt.legend()\n",
    "\n",
    "\n",
    "\n",
    "plt.ylabel('Y',fontsize=20)\n",
    "plt.xlabel('X', fontsize=20)\n",
    "plt.title('Generated data and regression curves', fontsize=20)\n",
    "plt.grid(True)\n",
    "plt.tight_layout()"
   ]
  },
  {
   "cell_type": "code",
   "execution_count": null,
   "id": "086ad62e-5562-486b-b9ac-605ad043ff55",
   "metadata": {},
   "outputs": [],
   "source": []
  }
 ],
 "metadata": {
  "kernelspec": {
   "display_name": "Python 3 (ipykernel)",
   "language": "python",
   "name": "python3"
  },
  "language_info": {
   "codemirror_mode": {
    "name": "ipython",
    "version": 3
   },
   "file_extension": ".py",
   "mimetype": "text/x-python",
   "name": "python",
   "nbconvert_exporter": "python",
   "pygments_lexer": "ipython3",
   "version": "3.12.8"
  }
 },
 "nbformat": 4,
 "nbformat_minor": 5
}
