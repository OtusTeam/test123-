{
  "cells": [
    {
      "cell_type": "markdown",
      "metadata": {
        "id": "yM08hGUsX8Q4"
      },
      "source": [
        "# Named Entity Recognition"
      ]
    },
    {
      "cell_type": "markdown",
      "metadata": {
        "id": "dx0cBjXBX8Q8"
      },
      "source": [
        "# 1. Russian Language"
      ]
    },
    {
      "cell_type": "markdown",
      "metadata": {
        "id": "wZz6oy9-X8Q9"
      },
      "source": [
        "## Yargy\n",
        "Для начала посмотрим на то, что скрывает под капотом Yargy-парсер.\n",
        "\n",
        "Yargy-парсер — **парсер, основанный на правилах, в котором правила для извлечения сущностей описываются с помощью контекстно-свободных грамматик и словарей.**\n",
        "\n",
        "Подробнее про Yargy-парсер можно почитать в [этом](https://habr.com/ru/post/349864/) посте."
      ]
    },
    {
      "cell_type": "markdown",
      "metadata": {
        "id": "r5tuEUPLX8Q9"
      },
      "source": [
        "GitHub [Yargy](https://github.com/natasha/yargy)"
      ]
    },
    {
      "cell_type": "code",
      "source": [
        "import warnings\n",
        "warnings.filterwarnings(\"ignore\")"
      ],
      "metadata": {
        "id": "DMRSJyI9olir"
      },
      "execution_count": null,
      "outputs": []
    },
    {
      "cell_type": "code",
      "source": [
        "!pip install yargy"
      ],
      "metadata": {
        "colab": {
          "base_uri": "https://localhost:8080/"
        },
        "id": "YWnZX5OzYEkJ",
        "outputId": "f1608d44-6e0f-44a6-a202-df440cf578b6"
      },
      "execution_count": null,
      "outputs": [
        {
          "output_type": "stream",
          "name": "stdout",
          "text": [
            "Collecting yargy\n",
            "  Downloading yargy-0.16.0-py3-none-any.whl.metadata (3.5 kB)\n",
            "Collecting pymorphy2 (from yargy)\n",
            "  Downloading pymorphy2-0.9.1-py3-none-any.whl.metadata (3.6 kB)\n",
            "Collecting dawg-python>=0.7.1 (from pymorphy2->yargy)\n",
            "  Downloading DAWG_Python-0.7.2-py2.py3-none-any.whl.metadata (7.0 kB)\n",
            "Collecting pymorphy2-dicts-ru<3.0,>=2.4 (from pymorphy2->yargy)\n",
            "  Downloading pymorphy2_dicts_ru-2.4.417127.4579844-py2.py3-none-any.whl.metadata (2.1 kB)\n",
            "Collecting docopt>=0.6 (from pymorphy2->yargy)\n",
            "  Downloading docopt-0.6.2.tar.gz (25 kB)\n",
            "  Preparing metadata (setup.py) ... \u001b[?25l\u001b[?25hdone\n",
            "Downloading yargy-0.16.0-py3-none-any.whl (33 kB)\n",
            "Downloading pymorphy2-0.9.1-py3-none-any.whl (55 kB)\n",
            "\u001b[2K   \u001b[90m━━━━━━━━━━━━━━━━━━━━━━━━━━━━━━━━━━━━━━━━\u001b[0m \u001b[32m55.5/55.5 kB\u001b[0m \u001b[31m3.8 MB/s\u001b[0m eta \u001b[36m0:00:00\u001b[0m\n",
            "\u001b[?25hDownloading DAWG_Python-0.7.2-py2.py3-none-any.whl (11 kB)\n",
            "Downloading pymorphy2_dicts_ru-2.4.417127.4579844-py2.py3-none-any.whl (8.2 MB)\n",
            "\u001b[2K   \u001b[90m━━━━━━━━━━━━━━━━━━━━━━━━━━━━━━━━━━━━━━━━\u001b[0m \u001b[32m8.2/8.2 MB\u001b[0m \u001b[31m53.0 MB/s\u001b[0m eta \u001b[36m0:00:00\u001b[0m\n",
            "\u001b[?25hBuilding wheels for collected packages: docopt\n",
            "  Building wheel for docopt (setup.py) ... \u001b[?25l\u001b[?25hdone\n",
            "  Created wheel for docopt: filename=docopt-0.6.2-py2.py3-none-any.whl size=13704 sha256=bccbc437b759eafd5969478937fee2ec641f3a5981e74073588cbc5046ea7f58\n",
            "  Stored in directory: /root/.cache/pip/wheels/fc/ab/d4/5da2067ac95b36618c629a5f93f809425700506f72c9732fac\n",
            "Successfully built docopt\n",
            "Installing collected packages: pymorphy2-dicts-ru, docopt, dawg-python, pymorphy2, yargy\n",
            "Successfully installed dawg-python-0.7.2 docopt-0.6.2 pymorphy2-0.9.1 pymorphy2-dicts-ru-2.4.417127.4579844 yargy-0.16.0\n"
          ]
        }
      ]
    },
    {
      "cell_type": "code",
      "execution_count": null,
      "metadata": {
        "id": "tg25Th9KX8Q-"
      },
      "outputs": [],
      "source": [
        "from yargy import Parser, rule, and_, not_\n",
        "from yargy.interpretation import fact\n",
        "from yargy.predicates import gram\n",
        "from yargy.relations import gnc_relation\n",
        "from yargy.pipelines import morph_pipeline"
      ]
    },
    {
      "cell_type": "markdown",
      "source": [
        "В Yargy-парсер уже заложена большая часть правил по выявлению именованных сущностей. Для примера рассмотрим, как выглядит правило для имен людей."
      ],
      "metadata": {
        "id": "xc45HH0AePWz"
      }
    },
    {
      "cell_type": "code",
      "execution_count": null,
      "metadata": {
        "id": "-72SicZAX8Q_"
      },
      "outputs": [],
      "source": [
        "# хорошо для специфических данных\n",
        "\n",
        "# Определяем факт 'Name' с полями 'first' (имя) и 'last' (фамилия)\n",
        "Name = fact(\n",
        "    'Name',\n",
        "    ['first', 'last'],\n",
        ")\n",
        "\n",
        "# Определяем факт 'Person' с полями 'position' (должность) и 'name' (структура 'Name')\n",
        "Person = fact(\n",
        "    'Person',\n",
        "    ['position', 'name']\n",
        ")\n",
        "\n",
        "# Правило для фамилии: должна быть сущ. (Surn), но не аббревиатурой\n",
        "LAST = and_(\n",
        "    gram('Surn'),  # фамилия (существительное с тегом \"Surn\")\n",
        "    not_(gram('Abbr')),  # не аббревиатура\n",
        ")\n",
        "\n",
        "# Правило для имени: должно быть имя (Name), но не аббревиатура\n",
        "FIRST = and_(\n",
        "    gram('Name'),  # имя (существительное с тегом \"Name\")\n",
        "    not_(gram('Abbr')),  # не аббревиатура\n",
        ")\n",
        "\n",
        "# Создаем морфологический пайплайн для списка должностей\n",
        "POSITION = morph_pipeline([\n",
        "    'управляющий директор',  # должность 1\n",
        "    'вице-мэр'  # должность 2\n",
        "])"
      ]
    },
    {
      "cell_type": "code",
      "source": [
        "# Создаем отношение рода/числа/падежа (gnc_relation) для согласования между частями речи\n",
        "gnc = gnc_relation()"
      ],
      "metadata": {
        "id": "ih_yog2l0ANS"
      },
      "execution_count": null,
      "outputs": []
    },
    {
      "cell_type": "code",
      "source": [
        "# Правило для полного имени: сначала имя, затем фамилия, оба согласованы по роду/числу/падежу\n",
        "NAME = rule(\n",
        "    FIRST.interpretation(# Интерпретируем имя как поле 'first' в структуре 'Name'\n",
        "        Name.first\n",
        "    ).match(gnc),  # Должно быть согласовано по род/число/падеж\n",
        "    LAST.interpretation(  # Интерпретируем фамилию как поле 'last' в структуре 'Name'\n",
        "        Name.last\n",
        "    ).match(gnc)  # Согласование с именем\n",
        ").interpretation(\n",
        "    Name  # Весь результат интерпретируется как структура 'Name'\n",
        ")\n",
        "\n",
        "# Правило для персоны: должность + имя, согласованные по роду/числу/падежу\n",
        "PERSON = rule(\n",
        "    POSITION.interpretation(  # Интерпретируем должность как поле 'position' в структуре 'Person'\n",
        "        Person.position\n",
        "    ).match(gnc),  # Согласование с именем\n",
        "    NAME.interpretation(  # Интерпретируем имя как поле 'name' в структуре 'Person'\n",
        "        Person.name\n",
        "    )\n",
        ").interpretation(  # Весь результат интерпретируется как структура 'Person'\n",
        "    Person\n",
        ")"
      ],
      "metadata": {
        "id": "c3_sRWeW0E0D"
      },
      "execution_count": null,
      "outputs": []
    },
    {
      "cell_type": "code",
      "execution_count": null,
      "metadata": {
        "id": "HYcuqZh6X8RB"
      },
      "outputs": [],
      "source": [
        "# Создаем парсер, который будет искать в тексте по правилу PERSON (должность + имя)\n",
        "parser = Parser(PERSON)"
      ]
    },
    {
      "cell_type": "code",
      "execution_count": null,
      "metadata": {
        "colab": {
          "base_uri": "https://localhost:8080/"
        },
        "id": "IdUFCFIEX8RB",
        "outputId": "752444db-82c0-4246-a1cb-b2e8eff5a7c2"
      },
      "outputs": [
        {
          "output_type": "stream",
          "name": "stdout",
          "text": [
            "Match(tokens=[MorphToken(value='управляющий', span=[0, 11), type='RU', forms=[Form('управлять', Grams(PRTF,Subx,actv,impf,intr,masc,nomn,pres,sing))]), MorphToken(value='директор', span=[12, 20), type='RU', forms=[Form('директор', Grams(NOUN,anim,masc,nomn,sing))]), MorphToken(value='Иван', span=[21, 25), type='RU', forms=[Form('иван', Grams(NOUN,Name,anim,masc,nomn,sing))]), MorphToken(value='Ульянов', span=[26, 33), type='RU', forms=[Form('ульянов', Grams(NOUN,Sgtm,Surn,anim,masc,nomn,sing))])], span=[0, 33))\n"
          ]
        }
      ],
      "source": [
        "# Ищем точное совпадение в тексте с должностью и именем\n",
        "match = parser.match('управляющий директор Иван Ульянов')\n",
        "print(match)"
      ]
    },
    {
      "cell_type": "code",
      "execution_count": null,
      "metadata": {
        "id": "L8FE_397X8RD"
      },
      "outputs": [],
      "source": [
        "text = 'За свою трудовую деятельность управляющий директор Иван Ульянов сделал огромный вклад в развитие завода'"
      ]
    },
    {
      "cell_type": "code",
      "execution_count": null,
      "metadata": {
        "colab": {
          "base_uri": "https://localhost:8080/"
        },
        "id": "DGQOF3SvX8RE",
        "outputId": "99b91d33-d143-41e0-8c0e-597bf5ad2551"
      },
      "outputs": [
        {
          "output_type": "stream",
          "name": "stdout",
          "text": [
            "['управляющий', 'директор', 'Иван', 'Ульянов']\n"
          ]
        }
      ],
      "source": [
        "# Ищем все вхождения, которые соответствуют правилу PERSON, и выводим значения токенов (слов)\n",
        "for match in parser.findall(text):\n",
        "    print([_.value for _ in match.tokens])"
      ]
    },
    {
      "cell_type": "markdown",
      "source": [
        "**Немного украшательства**\n",
        "\n",
        "Библиотека ipymarkup предназначена для красивой визуализации NER."
      ],
      "metadata": {
        "id": "vRJD1j3aeoHq"
      }
    },
    {
      "cell_type": "code",
      "execution_count": null,
      "metadata": {
        "colab": {
          "base_uri": "https://localhost:8080/"
        },
        "id": "dkgVVXg7X8RE",
        "outputId": "9a5f6a3f-96f4-45c5-da3e-15a2fd58249f"
      },
      "outputs": [
        {
          "output_type": "stream",
          "name": "stdout",
          "text": [
            "Collecting ipymarkup\n",
            "  Downloading ipymarkup-0.9.0-py3-none-any.whl.metadata (5.6 kB)\n",
            "Collecting intervaltree>=3 (from ipymarkup)\n",
            "  Downloading intervaltree-3.1.0.tar.gz (32 kB)\n",
            "  Preparing metadata (setup.py) ... \u001b[?25l\u001b[?25hdone\n",
            "Requirement already satisfied: sortedcontainers<3.0,>=2.0 in /usr/local/lib/python3.10/dist-packages (from intervaltree>=3->ipymarkup) (2.4.0)\n",
            "Downloading ipymarkup-0.9.0-py3-none-any.whl (14 kB)\n",
            "Building wheels for collected packages: intervaltree\n",
            "  Building wheel for intervaltree (setup.py) ... \u001b[?25l\u001b[?25hdone\n",
            "  Created wheel for intervaltree: filename=intervaltree-3.1.0-py2.py3-none-any.whl size=26096 sha256=c1d15d095e34a6460eb5e6f0dfb5e3466e13d2746f757feac6eea911395ff83d\n",
            "  Stored in directory: /root/.cache/pip/wheels/fa/80/8c/43488a924a046b733b64de3fac99252674c892a4c3801c0a61\n",
            "Successfully built intervaltree\n",
            "Installing collected packages: intervaltree, ipymarkup\n",
            "Successfully installed intervaltree-3.1.0 ipymarkup-0.9.0\n"
          ]
        }
      ],
      "source": [
        "!pip install ipymarkup"
      ]
    },
    {
      "cell_type": "code",
      "execution_count": null,
      "metadata": {
        "id": "35kJss75X8RF"
      },
      "outputs": [],
      "source": [
        "from ipymarkup import show_span_box_markup as show_markup # We will use this alisas for different markups!"
      ]
    },
    {
      "cell_type": "code",
      "execution_count": null,
      "metadata": {
        "id": "2Qcuv8ZBX8RF",
        "colab": {
          "base_uri": "https://localhost:8080/"
        },
        "outputId": "6f5552cf-a5f6-4ea1-984d-9cca099a0aff"
      },
      "outputs": [
        {
          "output_type": "execute_result",
          "data": {
            "text/plain": [
              "[[30, 63)]"
            ]
          },
          "metadata": {},
          "execution_count": 17
        }
      ],
      "source": [
        "matches = parser.findall(text)\n",
        "spans = [_.span for _ in matches]\n",
        "spans"
      ]
    },
    {
      "cell_type": "code",
      "source": [
        "text[30:63]"
      ],
      "metadata": {
        "colab": {
          "base_uri": "https://localhost:8080/",
          "height": 36
        },
        "id": "2vp0TSB3iDUl",
        "outputId": "be360f74-a776-4bd5-ec83-d497c8ddb040"
      },
      "execution_count": null,
      "outputs": [
        {
          "output_type": "execute_result",
          "data": {
            "text/plain": [
              "'управляющий директор Иван Ульянов'"
            ],
            "application/vnd.google.colaboratory.intrinsic+json": {
              "type": "string"
            }
          },
          "metadata": {},
          "execution_count": 18
        }
      ]
    },
    {
      "cell_type": "code",
      "execution_count": null,
      "metadata": {
        "colab": {
          "base_uri": "https://localhost:8080/",
          "height": 34
        },
        "id": "7M-jak7EX8RF",
        "outputId": "cc3b5c32-4760-4df3-804a-903b464e69b3"
      },
      "outputs": [
        {
          "output_type": "display_data",
          "data": {
            "text/plain": [
              "<IPython.core.display.HTML object>"
            ],
            "text/html": [
              "<div class=\"tex2jax_ignore\" style=\"white-space: pre-wrap\">За свою трудовую деятельность <span style=\"padding: 2px; border-radius: 4px; border: 1px solid #bbdefb; background: #e3f2fd\">управляющий директор Иван Ульянов</span> сделал огромный вклад в развитие завода</div>"
            ]
          },
          "metadata": {}
        }
      ],
      "source": [
        "show_markup(text, spans)"
      ]
    },
    {
      "cell_type": "markdown",
      "metadata": {
        "id": "jMCJKVMNX8RG"
      },
      "source": [
        "\n",
        "\n",
        "```\n",
        "# Als Code formatiert\n",
        "```\n",
        "\n",
        "## Slovnet by Natasha (real world library)\n",
        "\n",
        "[Slovnet](https://habr.com/ru/post/516098/) — проект по обучению нейросетевых моделей для обработки естественного русского языка. В библиотеке собраны качественные **компактные модели** для извлечения именованных сущностей, разбора морфологии и синтаксиса."
      ]
    },
    {
      "cell_type": "markdown",
      "metadata": {
        "id": "9RlJKpYFX8RG"
      },
      "source": [
        "[Гитхаб](https://github.com/natasha/slovnet) проекта.\n",
        "\n",
        "SlovNet is a Python library for deep-learning based NLP modeling for Russian language. Library is integrated with other Natasha projects: Nerus — large automatically annotated corpus, Razdel — sentence segmenter, tokenizer and Navec — compact Russian embeddings. Slovnet provides high quality practical models for Russian NER, morphology and syntax, see evaluation section for more:\n",
        "\n",
        "* **NER in Slovnet is 1-2% worse than current BERT SOTA by DeepPavlov but 60 times smaller in size (\\~30 MB) and works fast on CPU (\\~25 news articles/sec).**\n",
        "\n",
        "* Morphology tagger and syntax parser have comparable accuracy on news dataset with large SOTA BERT models, take 50 times less space (\\~30 MB), work faster on CPU (\\~500 sentences/sec)."
      ]
    },
    {
      "cell_type": "code",
      "execution_count": null,
      "metadata": {
        "colab": {
          "base_uri": "https://localhost:8080/"
        },
        "id": "USKZed3nX8RG",
        "outputId": "e3730080-55a6-41ee-bfd4-6ee668f8e588"
      },
      "outputs": [
        {
          "output_type": "stream",
          "name": "stdout",
          "text": [
            "Requirement already satisfied: navec in /usr/local/lib/python3.10/dist-packages (0.10.0)\n",
            "Requirement already satisfied: numpy in /usr/local/lib/python3.10/dist-packages (from navec) (1.26.4)\n",
            "Requirement already satisfied: slovnet in /usr/local/lib/python3.10/dist-packages (0.6.0)\n",
            "Requirement already satisfied: numpy in /usr/local/lib/python3.10/dist-packages (from slovnet) (1.26.4)\n",
            "Requirement already satisfied: razdel in /usr/local/lib/python3.10/dist-packages (from slovnet) (0.5.0)\n",
            "Requirement already satisfied: navec in /usr/local/lib/python3.10/dist-packages (from slovnet) (0.10.0)\n"
          ]
        }
      ],
      "source": [
        "!pip install navec\n",
        "!pip install slovnet"
      ]
    },
    {
      "cell_type": "code",
      "execution_count": null,
      "metadata": {
        "id": "lRKYsTI7X8RH"
      },
      "outputs": [],
      "source": [
        "from navec import Navec  # библиотека для работы с векторными представлениями слов (word embeddings)\n",
        "from slovnet import NER  # библиотека для распознавания сущностей (NER)\n",
        "from ipymarkup import show_span_ascii_markup as show_markup"
      ]
    },
    {
      "cell_type": "code",
      "execution_count": null,
      "metadata": {
        "id": "Qh7054ugX8RH"
      },
      "outputs": [],
      "source": [
        "text = '''Впервые в мире нейросеть от ПАО Сбербанк написала сборник рассказов вместе с писателем Павлом Пепперштейном, который выпустило издательство Individuum\n",
        "В издательстве Individuum вышел сборник рассказов «Пытаясь проснуться», написанных писателем и художником Павлом Пепперштейном и генеративной нейросетью ruGPT-3, разработанной командой SberDevices. Бумажную книгу уже сейчас можно заказать в интернет-магазине издательства, а на полках книжных магазинов она появится до конца мая. Электронная версия с сегодняшнего дня доступна эксклюзивно на «Букмейте».'''"
      ]
    },
    {
      "cell_type": "code",
      "source": [
        "text"
      ],
      "metadata": {
        "colab": {
          "base_uri": "https://localhost:8080/",
          "height": 88
        },
        "id": "0m3HOaNAsE0z",
        "outputId": "8e4d30f6-1093-479a-bc32-2896ffead2c9"
      },
      "execution_count": null,
      "outputs": [
        {
          "output_type": "execute_result",
          "data": {
            "text/plain": [
              "'Впервые в мире нейросеть от ПАО Сбербанк написала сборник рассказов вместе с писателем Павлом Пепперштейном, который выпустило издательство Individuum\\nВ издательстве Individuum вышел сборник рассказов «Пытаясь проснуться», написанных писателем и художником Павлом Пепперштейном и генеративной нейросетью ruGPT-3, разработанной командой SberDevices. Бумажную книгу уже сейчас можно заказать в интернет-магазине издательства, а на полках книжных магазинов она появится до конца мая. Электронная версия с сегодняшнего дня доступна эксклюзивно на «Букмейте».'"
            ],
            "application/vnd.google.colaboratory.intrinsic+json": {
              "type": "string"
            }
          },
          "metadata": {},
          "execution_count": 25
        }
      ]
    },
    {
      "cell_type": "markdown",
      "metadata": {
        "id": "l9PJY-TTX8RI"
      },
      "source": [
        "Для того, чтобы выявить в тексте именованные сущности воспользуемся **предобученными эмбеддингами** из библиотеки [Navec](https://github.com/natasha/navec), которые мы **затем будем использовать в качестве input'а для предобученной модели из Slovnet.**\n",
        "\n",
        "Библиотека [Navec](https://natasha.github.io/navec/) — часть проекта [Natasha](https://github.com/natasha), коллекция предобученных эмбеддингов для русского языка."
      ]
    },
    {
      "cell_type": "markdown",
      "metadata": {
        "id": "sxXUfWR3X8RI"
      },
      "source": [
        "Скачаем предобученную [модель](https://storage.yandexcloud.net/natasha-navec/packs/navec_news_v1_1B_250K_300d_100q.tar) `'navec_news_v1_1B_250K_300d_100q.tar'`."
      ]
    },
    {
      "cell_type": "code",
      "source": [
        "# needed for google drive file imports in google colab\n",
        "# skip, if executed locally\n",
        "# from google.colab import drive\n",
        "# drive.mount(\"/content/drive\")"
      ],
      "metadata": {
        "id": "qjuyGjxBQa6s"
      },
      "execution_count": null,
      "outputs": []
    },
    {
      "cell_type": "code",
      "execution_count": null,
      "metadata": {
        "id": "4rz0XlZcX8RI"
      },
      "outputs": [],
      "source": [
        "# use if on google colab\n",
        "# navec = Navec.load(r'/content/drive/My Drive/OTUS/NER/navec_news_v1_1B_250K_300d_100q.tar')\n",
        "# use locally with your path\n",
        "\n",
        "# предобученные эмбеддинги\n",
        "navec = Navec.load('navec_news_v1_1B_250K_300d_100q.tar')"
      ]
    },
    {
      "cell_type": "markdown",
      "metadata": {
        "id": "UzT5WD8kX8RJ"
      },
      "source": [
        "А теперь, **используя предобученные эмбеддинги из Navec найдем в тексте именованые сущности с помощью предобученной модели  slovnet.**"
      ]
    },
    {
      "cell_type": "code",
      "source": [
        "# use if on google colab\n",
        "# ner = NER.load(r'/content/drive/My Drive/OTUS/NER/slovnet_ner_news_v1.tar')\n",
        "# use locally with your path\n",
        "\n",
        "# Russian NER model, standart PER, LOC, ORG annotation, trained on news articles.\n",
        "ner = NER.load('slovnet_ner_news_v1.tar')"
      ],
      "metadata": {
        "id": "Us4ejT9dTBHQ"
      },
      "execution_count": null,
      "outputs": []
    },
    {
      "cell_type": "code",
      "execution_count": null,
      "metadata": {
        "id": "w3Vdrb5_X8RJ"
      },
      "outputs": [],
      "source": [
        "# init\n",
        "ner.navec(navec);"
      ]
    },
    {
      "cell_type": "code",
      "execution_count": null,
      "metadata": {
        "id": "E7I0rC8bX8RJ"
      },
      "outputs": [],
      "source": [
        "# apply NER\n",
        "markup = ner(text)"
      ]
    },
    {
      "cell_type": "code",
      "source": [
        "markup"
      ],
      "metadata": {
        "id": "KpH1EOf8kyVQ",
        "outputId": "d471eda8-3a90-43b4-b84b-d0140ac6b4cd",
        "colab": {
          "base_uri": "https://localhost:8080/"
        }
      },
      "execution_count": null,
      "outputs": [
        {
          "output_type": "execute_result",
          "data": {
            "text/plain": [
              "SpanMarkup(\n",
              "    text='Впервые в мире нейросеть от ПАО Сбербанк написала сборник рассказов вместе с писателем Павлом Пепперштейном, который выпустило издательство Individuum\\nВ издательстве Individuum вышел сборник рассказов «Пытаясь проснуться», написанных писателем и художником Павлом Пепперштейном и генеративной нейросетью ruGPT-3, разработанной командой SberDevices. Бумажную книгу уже сейчас можно заказать в интернет-магазине издательства, а на полках книжных магазинов она появится до конца мая. Электронная версия с сегодняшнего дня доступна эксклюзивно на «Букмейте».',\n",
              "    spans=[Span(\n",
              "         start=28,\n",
              "         stop=40,\n",
              "         type='ORG'\n",
              "     ),\n",
              "     Span(\n",
              "         start=87,\n",
              "         stop=107,\n",
              "         type='PER'\n",
              "     ),\n",
              "     Span(\n",
              "         start=140,\n",
              "         stop=150,\n",
              "         type='ORG'\n",
              "     ),\n",
              "     Span(\n",
              "         start=166,\n",
              "         stop=176,\n",
              "         type='ORG'\n",
              "     ),\n",
              "     Span(\n",
              "         start=257,\n",
              "         stop=277,\n",
              "         type='PER'\n",
              "     ),\n",
              "     Span(\n",
              "         start=336,\n",
              "         stop=347,\n",
              "         type='ORG'\n",
              "     ),\n",
              "     Span(\n",
              "         start=544,\n",
              "         stop=552,\n",
              "         type='ORG'\n",
              "     )]\n",
              ")"
            ]
          },
          "metadata": {},
          "execution_count": 35
        }
      ]
    },
    {
      "cell_type": "code",
      "execution_count": null,
      "metadata": {
        "colab": {
          "base_uri": "https://localhost:8080/"
        },
        "id": "BYpNBWPfX8RK",
        "outputId": "59c48735-bf72-4c39-d9b3-a5c8487f6bdf"
      },
      "outputs": [
        {
          "output_type": "stream",
          "name": "stdout",
          "text": [
            "Впервые в мире нейросеть от ПАО Сбербанк написала сборник рассказов \n",
            "                            ORG─────────                            \n",
            "вместе с писателем Павлом Пепперштейном, который выпустило \n",
            "                   PER─────────────────                    \n",
            "издательство Individuum\n",
            "             ORG───────\n",
            "В издательстве Individuum вышел сборник рассказов «Пытаясь \n",
            "               ORG───────                                  \n",
            "проснуться», написанных писателем и художником Павлом Пепперштейном и \n",
            "                                               PER─────────────────   \n",
            "генеративной нейросетью ruGPT-3, разработанной командой SberDevices. \n",
            "                                                        ORG────────  \n",
            "Бумажную книгу уже сейчас можно заказать в интернет-магазине \n",
            "издательства, а на полках книжных магазинов она появится до конца мая.\n",
            " Электронная версия с сегодняшнего дня доступна эксклюзивно на \n",
            "«Букмейте».\n",
            " ORG─────  \n"
          ]
        }
      ],
      "source": [
        "show_markup(markup.text, markup.spans)"
      ]
    },
    {
      "cell_type": "markdown",
      "metadata": {
        "id": "ozEHMiKTX8RK"
      },
      "source": [
        "### Визуализация сущностей"
      ]
    },
    {
      "cell_type": "code",
      "execution_count": null,
      "metadata": {
        "id": "Zyg9w4hzX8RK"
      },
      "outputs": [],
      "source": [
        "from ipymarkup import show_span_box_markup as show_markup"
      ]
    },
    {
      "cell_type": "code",
      "execution_count": null,
      "metadata": {
        "colab": {
          "base_uri": "https://localhost:8080/",
          "height": 86
        },
        "id": "-bUQchuGX8RK",
        "outputId": "4ea1e40a-12c1-4647-c5a4-e32121addd9d"
      },
      "outputs": [
        {
          "output_type": "display_data",
          "data": {
            "text/plain": [
              "<IPython.core.display.HTML object>"
            ],
            "text/html": [
              "<div class=\"tex2jax_ignore\" style=\"white-space: pre-wrap\">Впервые в мире нейросеть от <span style=\"padding: 2px; border-radius: 4px; border: 1px solid #c8e6c9; background: #e8f5e9\">ПАО Сбербанк<span style=\"vertical-align: middle; margin-left: 2px; font-size: 0.7em; color: #66bb6a;\">ORG</span></span> написала сборник рассказов вместе с писателем <span style=\"padding: 2px; border-radius: 4px; border: 1px solid #ffcdd2; background: #ffebee\">Павлом Пепперштейном<span style=\"vertical-align: middle; margin-left: 2px; font-size: 0.7em; color: #e57373;\">PER</span></span>, который выпустило издательство <span style=\"padding: 2px; border-radius: 4px; border: 1px solid #c8e6c9; background: #e8f5e9\">Individuum<span style=\"vertical-align: middle; margin-left: 2px; font-size: 0.7em; color: #66bb6a;\">ORG</span></span>\n",
              "В издательстве <span style=\"padding: 2px; border-radius: 4px; border: 1px solid #c8e6c9; background: #e8f5e9\">Individuum<span style=\"vertical-align: middle; margin-left: 2px; font-size: 0.7em; color: #66bb6a;\">ORG</span></span> вышел сборник рассказов «Пытаясь проснуться», написанных писателем и художником <span style=\"padding: 2px; border-radius: 4px; border: 1px solid #ffcdd2; background: #ffebee\">Павлом Пепперштейном<span style=\"vertical-align: middle; margin-left: 2px; font-size: 0.7em; color: #e57373;\">PER</span></span> и генеративной нейросетью ruGPT-3, разработанной командой <span style=\"padding: 2px; border-radius: 4px; border: 1px solid #c8e6c9; background: #e8f5e9\">SberDevices<span style=\"vertical-align: middle; margin-left: 2px; font-size: 0.7em; color: #66bb6a;\">ORG</span></span>. Бумажную книгу уже сейчас можно заказать в интернет-магазине издательства, а на полках книжных магазинов она появится до конца мая. Электронная версия с сегодняшнего дня доступна эксклюзивно на «<span style=\"padding: 2px; border-radius: 4px; border: 1px solid #c8e6c9; background: #e8f5e9\">Букмейте<span style=\"vertical-align: middle; margin-left: 2px; font-size: 0.7em; color: #66bb6a;\">ORG</span></span>».</div>"
            ]
          },
          "metadata": {}
        }
      ],
      "source": [
        "show_markup(text, markup.spans)"
      ]
    },
    {
      "cell_type": "markdown",
      "source": [
        "«Пытаясь проснуться» и ruGPT-3, не классифицированы.\n",
        "\n",
        "-> **можно использовать микс инструментов и взять объединение всех результатов**"
      ],
      "metadata": {
        "id": "NKOrxJ5O9i8u"
      }
    },
    {
      "cell_type": "markdown",
      "metadata": {
        "id": "glNXV9W7X8RL"
      },
      "source": [
        "# 2. English Language\n",
        "\n",
        "А что с английским языком? Модели от navec и slovnet обучены для русского языка.\n",
        "\n",
        "Для английского воспользуемся библиотекой [spacy](https://spacy.io/), в которую уже встроен парсер для английского языка: [en_core_web_sm](https://spacy.io/models/en)."
      ]
    },
    {
      "cell_type": "code",
      "execution_count": null,
      "metadata": {
        "id": "yWer_uIrX8RL",
        "colab": {
          "base_uri": "https://localhost:8080/"
        },
        "outputId": "ea786a69-08e1-4a49-e0d3-419feebc82ae"
      },
      "outputs": [
        {
          "output_type": "stream",
          "name": "stdout",
          "text": [
            "Collecting en-core-web-sm==3.7.1\n",
            "  Downloading https://github.com/explosion/spacy-models/releases/download/en_core_web_sm-3.7.1/en_core_web_sm-3.7.1-py3-none-any.whl (12.8 MB)\n",
            "\u001b[2K     \u001b[90m━━━━━━━━━━━━━━━━━━━━━━━━━━━━━━━━━━━━━━━━\u001b[0m \u001b[32m12.8/12.8 MB\u001b[0m \u001b[31m85.7 MB/s\u001b[0m eta \u001b[36m0:00:00\u001b[0m\n",
            "\u001b[?25hRequirement already satisfied: spacy<3.8.0,>=3.7.2 in /usr/local/lib/python3.10/dist-packages (from en-core-web-sm==3.7.1) (3.7.5)\n",
            "Requirement already satisfied: spacy-legacy<3.1.0,>=3.0.11 in /usr/local/lib/python3.10/dist-packages (from spacy<3.8.0,>=3.7.2->en-core-web-sm==3.7.1) (3.0.12)\n",
            "Requirement already satisfied: spacy-loggers<2.0.0,>=1.0.0 in /usr/local/lib/python3.10/dist-packages (from spacy<3.8.0,>=3.7.2->en-core-web-sm==3.7.1) (1.0.5)\n",
            "Requirement already satisfied: murmurhash<1.1.0,>=0.28.0 in /usr/local/lib/python3.10/dist-packages (from spacy<3.8.0,>=3.7.2->en-core-web-sm==3.7.1) (1.0.10)\n",
            "Requirement already satisfied: cymem<2.1.0,>=2.0.2 in /usr/local/lib/python3.10/dist-packages (from spacy<3.8.0,>=3.7.2->en-core-web-sm==3.7.1) (2.0.8)\n",
            "Requirement already satisfied: preshed<3.1.0,>=3.0.2 in /usr/local/lib/python3.10/dist-packages (from spacy<3.8.0,>=3.7.2->en-core-web-sm==3.7.1) (3.0.9)\n",
            "Requirement already satisfied: thinc<8.3.0,>=8.2.2 in /usr/local/lib/python3.10/dist-packages (from spacy<3.8.0,>=3.7.2->en-core-web-sm==3.7.1) (8.2.5)\n",
            "Requirement already satisfied: wasabi<1.2.0,>=0.9.1 in /usr/local/lib/python3.10/dist-packages (from spacy<3.8.0,>=3.7.2->en-core-web-sm==3.7.1) (1.1.3)\n",
            "Requirement already satisfied: srsly<3.0.0,>=2.4.3 in /usr/local/lib/python3.10/dist-packages (from spacy<3.8.0,>=3.7.2->en-core-web-sm==3.7.1) (2.4.8)\n",
            "Requirement already satisfied: catalogue<2.1.0,>=2.0.6 in /usr/local/lib/python3.10/dist-packages (from spacy<3.8.0,>=3.7.2->en-core-web-sm==3.7.1) (2.0.10)\n",
            "Requirement already satisfied: weasel<0.5.0,>=0.1.0 in /usr/local/lib/python3.10/dist-packages (from spacy<3.8.0,>=3.7.2->en-core-web-sm==3.7.1) (0.4.1)\n",
            "Requirement already satisfied: typer<1.0.0,>=0.3.0 in /usr/local/lib/python3.10/dist-packages (from spacy<3.8.0,>=3.7.2->en-core-web-sm==3.7.1) (0.12.5)\n",
            "Requirement already satisfied: tqdm<5.0.0,>=4.38.0 in /usr/local/lib/python3.10/dist-packages (from spacy<3.8.0,>=3.7.2->en-core-web-sm==3.7.1) (4.66.5)\n",
            "Requirement already satisfied: requests<3.0.0,>=2.13.0 in /usr/local/lib/python3.10/dist-packages (from spacy<3.8.0,>=3.7.2->en-core-web-sm==3.7.1) (2.32.3)\n",
            "Requirement already satisfied: pydantic!=1.8,!=1.8.1,<3.0.0,>=1.7.4 in /usr/local/lib/python3.10/dist-packages (from spacy<3.8.0,>=3.7.2->en-core-web-sm==3.7.1) (2.9.2)\n",
            "Requirement already satisfied: jinja2 in /usr/local/lib/python3.10/dist-packages (from spacy<3.8.0,>=3.7.2->en-core-web-sm==3.7.1) (3.1.4)\n",
            "Requirement already satisfied: setuptools in /usr/local/lib/python3.10/dist-packages (from spacy<3.8.0,>=3.7.2->en-core-web-sm==3.7.1) (71.0.4)\n",
            "Requirement already satisfied: packaging>=20.0 in /usr/local/lib/python3.10/dist-packages (from spacy<3.8.0,>=3.7.2->en-core-web-sm==3.7.1) (24.1)\n",
            "Requirement already satisfied: langcodes<4.0.0,>=3.2.0 in /usr/local/lib/python3.10/dist-packages (from spacy<3.8.0,>=3.7.2->en-core-web-sm==3.7.1) (3.4.1)\n",
            "Requirement already satisfied: numpy>=1.19.0 in /usr/local/lib/python3.10/dist-packages (from spacy<3.8.0,>=3.7.2->en-core-web-sm==3.7.1) (1.26.4)\n",
            "Requirement already satisfied: language-data>=1.2 in /usr/local/lib/python3.10/dist-packages (from langcodes<4.0.0,>=3.2.0->spacy<3.8.0,>=3.7.2->en-core-web-sm==3.7.1) (1.2.0)\n",
            "Requirement already satisfied: annotated-types>=0.6.0 in /usr/local/lib/python3.10/dist-packages (from pydantic!=1.8,!=1.8.1,<3.0.0,>=1.7.4->spacy<3.8.0,>=3.7.2->en-core-web-sm==3.7.1) (0.7.0)\n",
            "Requirement already satisfied: pydantic-core==2.23.4 in /usr/local/lib/python3.10/dist-packages (from pydantic!=1.8,!=1.8.1,<3.0.0,>=1.7.4->spacy<3.8.0,>=3.7.2->en-core-web-sm==3.7.1) (2.23.4)\n",
            "Requirement already satisfied: typing-extensions>=4.6.1 in /usr/local/lib/python3.10/dist-packages (from pydantic!=1.8,!=1.8.1,<3.0.0,>=1.7.4->spacy<3.8.0,>=3.7.2->en-core-web-sm==3.7.1) (4.12.2)\n",
            "Requirement already satisfied: charset-normalizer<4,>=2 in /usr/local/lib/python3.10/dist-packages (from requests<3.0.0,>=2.13.0->spacy<3.8.0,>=3.7.2->en-core-web-sm==3.7.1) (3.3.2)\n",
            "Requirement already satisfied: idna<4,>=2.5 in /usr/local/lib/python3.10/dist-packages (from requests<3.0.0,>=2.13.0->spacy<3.8.0,>=3.7.2->en-core-web-sm==3.7.1) (3.10)\n",
            "Requirement already satisfied: urllib3<3,>=1.21.1 in /usr/local/lib/python3.10/dist-packages (from requests<3.0.0,>=2.13.0->spacy<3.8.0,>=3.7.2->en-core-web-sm==3.7.1) (2.2.3)\n",
            "Requirement already satisfied: certifi>=2017.4.17 in /usr/local/lib/python3.10/dist-packages (from requests<3.0.0,>=2.13.0->spacy<3.8.0,>=3.7.2->en-core-web-sm==3.7.1) (2024.8.30)\n",
            "Requirement already satisfied: blis<0.8.0,>=0.7.8 in /usr/local/lib/python3.10/dist-packages (from thinc<8.3.0,>=8.2.2->spacy<3.8.0,>=3.7.2->en-core-web-sm==3.7.1) (0.7.11)\n",
            "Requirement already satisfied: confection<1.0.0,>=0.0.1 in /usr/local/lib/python3.10/dist-packages (from thinc<8.3.0,>=8.2.2->spacy<3.8.0,>=3.7.2->en-core-web-sm==3.7.1) (0.1.5)\n",
            "Requirement already satisfied: click>=8.0.0 in /usr/local/lib/python3.10/dist-packages (from typer<1.0.0,>=0.3.0->spacy<3.8.0,>=3.7.2->en-core-web-sm==3.7.1) (8.1.7)\n",
            "Requirement already satisfied: shellingham>=1.3.0 in /usr/local/lib/python3.10/dist-packages (from typer<1.0.0,>=0.3.0->spacy<3.8.0,>=3.7.2->en-core-web-sm==3.7.1) (1.5.4)\n",
            "Requirement already satisfied: rich>=10.11.0 in /usr/local/lib/python3.10/dist-packages (from typer<1.0.0,>=0.3.0->spacy<3.8.0,>=3.7.2->en-core-web-sm==3.7.1) (13.9.1)\n",
            "Requirement already satisfied: cloudpathlib<1.0.0,>=0.7.0 in /usr/local/lib/python3.10/dist-packages (from weasel<0.5.0,>=0.1.0->spacy<3.8.0,>=3.7.2->en-core-web-sm==3.7.1) (0.19.0)\n",
            "Requirement already satisfied: smart-open<8.0.0,>=5.2.1 in /usr/local/lib/python3.10/dist-packages (from weasel<0.5.0,>=0.1.0->spacy<3.8.0,>=3.7.2->en-core-web-sm==3.7.1) (7.0.4)\n",
            "Requirement already satisfied: MarkupSafe>=2.0 in /usr/local/lib/python3.10/dist-packages (from jinja2->spacy<3.8.0,>=3.7.2->en-core-web-sm==3.7.1) (2.1.5)\n",
            "Requirement already satisfied: marisa-trie>=0.7.7 in /usr/local/lib/python3.10/dist-packages (from language-data>=1.2->langcodes<4.0.0,>=3.2.0->spacy<3.8.0,>=3.7.2->en-core-web-sm==3.7.1) (1.2.0)\n",
            "Requirement already satisfied: markdown-it-py>=2.2.0 in /usr/local/lib/python3.10/dist-packages (from rich>=10.11.0->typer<1.0.0,>=0.3.0->spacy<3.8.0,>=3.7.2->en-core-web-sm==3.7.1) (3.0.0)\n",
            "Requirement already satisfied: pygments<3.0.0,>=2.13.0 in /usr/local/lib/python3.10/dist-packages (from rich>=10.11.0->typer<1.0.0,>=0.3.0->spacy<3.8.0,>=3.7.2->en-core-web-sm==3.7.1) (2.18.0)\n",
            "Requirement already satisfied: wrapt in /usr/local/lib/python3.10/dist-packages (from smart-open<8.0.0,>=5.2.1->weasel<0.5.0,>=0.1.0->spacy<3.8.0,>=3.7.2->en-core-web-sm==3.7.1) (1.16.0)\n",
            "Requirement already satisfied: mdurl~=0.1 in /usr/local/lib/python3.10/dist-packages (from markdown-it-py>=2.2.0->rich>=10.11.0->typer<1.0.0,>=0.3.0->spacy<3.8.0,>=3.7.2->en-core-web-sm==3.7.1) (0.1.2)\n",
            "\u001b[38;5;2m✔ Download and installation successful\u001b[0m\n",
            "You can now load the package via spacy.load('en_core_web_sm')\n",
            "\u001b[38;5;3m⚠ Restart to reload dependencies\u001b[0m\n",
            "If you are in a Jupyter or Colab notebook, you may need to restart Python in\n",
            "order to load all the package's dependencies. You can do this by selecting the\n",
            "'Restart kernel' or 'Restart runtime' option.\n"
          ]
        }
      ],
      "source": [
        "! python -m spacy download en_core_web_sm"
      ]
    },
    {
      "cell_type": "code",
      "execution_count": null,
      "metadata": {
        "id": "nFItBojkX8RL"
      },
      "outputs": [],
      "source": [
        "import spacy\n",
        "from spacy import displacy # NER rendering\n",
        "from collections import Counter\n",
        "import en_core_web_sm # NER model"
      ]
    },
    {
      "cell_type": "code",
      "execution_count": null,
      "metadata": {
        "id": "0XDI8ZnCX8RL"
      },
      "outputs": [],
      "source": [
        "# download model\n",
        "# when choosing a model think of the accuracy vs performance tradeoff (small vs large model)\n",
        "nlp = en_core_web_sm.load()"
      ]
    },
    {
      "cell_type": "markdown",
      "source": [
        "Посмотрим, как работает английский NER из spacy на примере с новостного сайта."
      ],
      "metadata": {
        "id": "e8d6Y8nyb_v-"
      }
    },
    {
      "cell_type": "code",
      "execution_count": null,
      "metadata": {
        "id": "zS2U0ztCX8RL"
      },
      "outputs": [],
      "source": [
        "text = '''One day in mid-November, workers at OpenAI got an unexpected assignment: Release a chatbot, fast. The chatbot, an executive announced, would be known as “Chat with GPT 3.5,” and it would be made available free to the public. '''"
      ]
    },
    {
      "cell_type": "code",
      "execution_count": null,
      "metadata": {
        "id": "qUQ75lynX8RM",
        "colab": {
          "base_uri": "https://localhost:8080/"
        },
        "outputId": "df56a7af-bc8c-4a6f-9be9-f2602ce00e96"
      },
      "outputs": [
        {
          "output_type": "execute_result",
          "data": {
            "text/plain": [
              "One day in mid-November, workers at OpenAI got an unexpected assignment: Release a chatbot, fast. The chatbot, an executive announced, would be known as “Chat with GPT 3.5,” and it would be made available free to the public. "
            ]
          },
          "metadata": {},
          "execution_count": 45
        }
      ],
      "source": [
        "doc = nlp(text)\n",
        "doc"
      ]
    },
    {
      "cell_type": "code",
      "execution_count": null,
      "metadata": {
        "colab": {
          "base_uri": "https://localhost:8080/"
        },
        "id": "nlKrrTFXX8RM",
        "outputId": "418e79d8-7f8e-4c30-9c2e-e64c616f402c"
      },
      "outputs": [
        {
          "output_type": "execute_result",
          "data": {
            "text/plain": [
              "spacy.tokens.doc.Doc"
            ]
          },
          "metadata": {},
          "execution_count": 46
        }
      ],
      "source": [
        "type(doc)"
      ]
    },
    {
      "cell_type": "code",
      "execution_count": null,
      "metadata": {
        "colab": {
          "base_uri": "https://localhost:8080/"
        },
        "id": "UKMiN7WYX8RM",
        "outputId": "da140d99-c6c0-44c0-82a7-e18f0efc42db"
      },
      "outputs": [
        {
          "output_type": "execute_result",
          "data": {
            "text/plain": [
              "(One day, mid-November, OpenAI, GPT)"
            ]
          },
          "metadata": {},
          "execution_count": 47
        }
      ],
      "source": [
        "# show entities\n",
        "doc.ents"
      ]
    },
    {
      "cell_type": "code",
      "execution_count": null,
      "metadata": {
        "colab": {
          "base_uri": "https://localhost:8080/"
        },
        "id": "Zwr5QyRfX8RM",
        "outputId": "16bce1ff-ca06-4c89-d954-53261aa25139"
      },
      "outputs": [
        {
          "output_type": "execute_result",
          "data": {
            "text/plain": [
              "[('One day', 'DATE'),\n",
              " ('mid-November', 'DATE'),\n",
              " ('OpenAI', 'GPE'),\n",
              " ('GPT', 'ORG')]"
            ]
          },
          "metadata": {},
          "execution_count": 48
        }
      ],
      "source": [
        "[(X.text, X.label_) for X in doc.ents]"
      ]
    },
    {
      "cell_type": "code",
      "execution_count": null,
      "metadata": {
        "colab": {
          "base_uri": "https://localhost:8080/"
        },
        "id": "hE_vcTP0X8RN",
        "outputId": "4686027b-a115-4121-fefd-48bf1300af4f"
      },
      "outputs": [
        {
          "output_type": "execute_result",
          "data": {
            "text/plain": [
              "[(One, 'B', 'DATE'),\n",
              " (day, 'I', 'DATE'),\n",
              " (in, 'O', ''),\n",
              " (mid, 'B', 'DATE'),\n",
              " (-, 'I', 'DATE'),\n",
              " (November, 'I', 'DATE'),\n",
              " (,, 'O', ''),\n",
              " (workers, 'O', ''),\n",
              " (at, 'O', ''),\n",
              " (OpenAI, 'B', 'GPE'),\n",
              " (got, 'O', ''),\n",
              " (an, 'O', ''),\n",
              " (unexpected, 'O', ''),\n",
              " (assignment, 'O', ''),\n",
              " (:, 'O', ''),\n",
              " (Release, 'O', ''),\n",
              " (a, 'O', ''),\n",
              " (chatbot, 'O', ''),\n",
              " (,, 'O', ''),\n",
              " (fast, 'O', ''),\n",
              " (., 'O', ''),\n",
              " (The, 'O', ''),\n",
              " (chatbot, 'O', ''),\n",
              " (,, 'O', ''),\n",
              " (an, 'O', ''),\n",
              " (executive, 'O', ''),\n",
              " (announced, 'O', ''),\n",
              " (,, 'O', ''),\n",
              " (would, 'O', ''),\n",
              " (be, 'O', ''),\n",
              " (known, 'O', ''),\n",
              " (as, 'O', ''),\n",
              " (“, 'O', ''),\n",
              " (Chat, 'O', ''),\n",
              " (with, 'O', ''),\n",
              " (GPT, 'B', 'ORG'),\n",
              " (3.5, 'O', ''),\n",
              " (,, 'O', ''),\n",
              " (”, 'O', ''),\n",
              " (and, 'O', ''),\n",
              " (it, 'O', ''),\n",
              " (would, 'O', ''),\n",
              " (be, 'O', ''),\n",
              " (made, 'O', ''),\n",
              " (available, 'O', ''),\n",
              " (free, 'O', ''),\n",
              " (to, 'O', ''),\n",
              " (the, 'O', ''),\n",
              " (public, 'O', ''),\n",
              " (., 'O', '')]"
            ]
          },
          "metadata": {},
          "execution_count": 49
        }
      ],
      "source": [
        "# IOB annotation format\n",
        "[(X, X.ent_iob_, X.ent_type_) for X in doc]"
      ]
    },
    {
      "cell_type": "code",
      "execution_count": null,
      "metadata": {
        "colab": {
          "base_uri": "https://localhost:8080/",
          "height": 87
        },
        "id": "Fqk6bRlcX8RN",
        "outputId": "2378f174-38e3-45f9-c05f-6baeb557cd99"
      },
      "outputs": [
        {
          "output_type": "display_data",
          "data": {
            "text/plain": [
              "<IPython.core.display.HTML object>"
            ],
            "text/html": [
              "<span class=\"tex2jax_ignore\"><div class=\"entities\" style=\"line-height: 2.5; direction: ltr\">\n",
              "<mark class=\"entity\" style=\"background: #bfe1d9; padding: 0.45em 0.6em; margin: 0 0.25em; line-height: 1; border-radius: 0.35em;\">\n",
              "    One day\n",
              "    <span style=\"font-size: 0.8em; font-weight: bold; line-height: 1; border-radius: 0.35em; vertical-align: middle; margin-left: 0.5rem\">DATE</span>\n",
              "</mark>\n",
              " in \n",
              "<mark class=\"entity\" style=\"background: #bfe1d9; padding: 0.45em 0.6em; margin: 0 0.25em; line-height: 1; border-radius: 0.35em;\">\n",
              "    mid-November\n",
              "    <span style=\"font-size: 0.8em; font-weight: bold; line-height: 1; border-radius: 0.35em; vertical-align: middle; margin-left: 0.5rem\">DATE</span>\n",
              "</mark>\n",
              ", workers at \n",
              "<mark class=\"entity\" style=\"background: #feca74; padding: 0.45em 0.6em; margin: 0 0.25em; line-height: 1; border-radius: 0.35em;\">\n",
              "    OpenAI\n",
              "    <span style=\"font-size: 0.8em; font-weight: bold; line-height: 1; border-radius: 0.35em; vertical-align: middle; margin-left: 0.5rem\">GPE</span>\n",
              "</mark>\n",
              " got an unexpected assignment: Release a chatbot, fast. The chatbot, an executive announced, would be known as “Chat with \n",
              "<mark class=\"entity\" style=\"background: #7aecec; padding: 0.45em 0.6em; margin: 0 0.25em; line-height: 1; border-radius: 0.35em;\">\n",
              "    GPT\n",
              "    <span style=\"font-size: 0.8em; font-weight: bold; line-height: 1; border-radius: 0.35em; vertical-align: middle; margin-left: 0.5rem\">ORG</span>\n",
              "</mark>\n",
              " 3.5,” and it would be made available free to the public. </div></span>"
            ]
          },
          "metadata": {}
        }
      ],
      "source": [
        "displacy.render(doc, jupyter=True, style='ent')"
      ]
    },
    {
      "cell_type": "markdown",
      "source": [
        "А теперь давайте возьмем реальный текст [новости](https://www.nytimes.com/2022/04/21/sports/basketball/nets-celtics-kevin-durant.html) с новостного сайта [NY Times](https://www.nytimes.com) и посмотрим, какие именованные сущности выявит spacy.\n"
      ],
      "metadata": {
        "id": "Ni7gSK3ZcNlf"
      }
    },
    {
      "cell_type": "markdown",
      "source": [
        "Посмотрим, **о ком и о чем эта статья**."
      ],
      "metadata": {
        "id": "aUoZMiFAdUUp"
      }
    },
    {
      "cell_type": "code",
      "source": [
        "ny_bb = 'BOSTON — Kevin Durant had no room. He admitted as much. Whenever he had the ball against the Celtics on Wednesday night, and even when he did not, defenders were crowding his space, shadowing him, draping themselves all over him like Saran wrap. They were on the perimeter, and in the paint, and at the elbow. How was it possible that only five of them were on the court at once? “They’re mucking up actions when I run off stuff,” said Durant, who singled out the Celtics’ Al Horford for “leaving his man to come over and hit me sometimes.” Durant went on: “Just two or three guys hitting me wherever I go. And that’s just the nature of the beast in the playoffs.” It was nearing 11 p.m. as Durant offered up his post-mortem of the Nets’ 114-107 loss to the Celtics in Game 2 of their first-round playoff series, and he did not necessarily seem concerned. In fact, his analysis came off as dispassionate: Here were the facts, and it was his job to remedy the issues as the Nets seek to rebound from their two-games-to-none deficit in the best-of-seven series. It heads to Brooklyn for Game 3 on Saturday night. “It’s on me to just finish it and figure it out,” he said. “I’m not expecting my teammates or the defense to give me anything. I just got to go out there and play.”'"
      ],
      "metadata": {
        "id": "CoF6X6e6KHF8"
      },
      "execution_count": null,
      "outputs": []
    },
    {
      "cell_type": "code",
      "source": [
        "print(ny_bb)"
      ],
      "metadata": {
        "colab": {
          "base_uri": "https://localhost:8080/"
        },
        "id": "l1-SlAkTlMCy",
        "outputId": "61785807-9ed4-421b-f84a-7942dc656faf"
      },
      "execution_count": null,
      "outputs": [
        {
          "output_type": "stream",
          "name": "stdout",
          "text": [
            "BOSTON — Kevin Durant had no room. He admitted as much. Whenever he had the ball against the Celtics on Wednesday night, and even when he did not, defenders were crowding his space, shadowing him, draping themselves all over him like Saran wrap. They were on the perimeter, and in the paint, and at the elbow. How was it possible that only five of them were on the court at once? “They’re mucking up actions when I run off stuff,” said Durant, who singled out the Celtics’ Al Horford for “leaving his man to come over and hit me sometimes.” Durant went on: “Just two or three guys hitting me wherever I go. And that’s just the nature of the beast in the playoffs.” It was nearing 11 p.m. as Durant offered up his post-mortem of the Nets’ 114-107 loss to the Celtics in Game 2 of their first-round playoff series, and he did not necessarily seem concerned. In fact, his analysis came off as dispassionate: Here were the facts, and it was his job to remedy the issues as the Nets seek to rebound from their two-games-to-none deficit in the best-of-seven series. It heads to Brooklyn for Game 3 on Saturday night. “It’s on me to just finish it and figure it out,” he said. “I’m not expecting my teammates or the defense to give me anything. I just got to go out there and play.”\n"
          ]
        }
      ]
    },
    {
      "cell_type": "code",
      "execution_count": null,
      "metadata": {
        "colab": {
          "base_uri": "https://localhost:8080/"
        },
        "id": "8xeVWg0NX8RO",
        "outputId": "37bb078f-2c05-43e6-da5a-cb2880c2c4de"
      },
      "outputs": [
        {
          "output_type": "execute_result",
          "data": {
            "text/plain": [
              "17"
            ]
          },
          "metadata": {},
          "execution_count": 53
        }
      ],
      "source": [
        "article = nlp(ny_bb)\n",
        "len(article.ents)"
      ]
    },
    {
      "cell_type": "code",
      "execution_count": null,
      "metadata": {
        "colab": {
          "base_uri": "https://localhost:8080/"
        },
        "id": "NKA3sG6ZX8RO",
        "outputId": "ccd5e2b8-201a-4178-9fd1-f1a831945434"
      },
      "outputs": [
        {
          "output_type": "execute_result",
          "data": {
            "text/plain": [
              "Counter({'GPE': 2,\n",
              "         'PERSON': 3,\n",
              "         'DATE': 2,\n",
              "         'PRODUCT': 1,\n",
              "         'CARDINAL': 5,\n",
              "         'TIME': 2,\n",
              "         'ORG': 1,\n",
              "         'ORDINAL': 1})"
            ]
          },
          "metadata": {},
          "execution_count": 54
        }
      ],
      "source": [
        "labels = [x.label_ for x in article.ents]\n",
        "Counter(labels)"
      ]
    },
    {
      "cell_type": "code",
      "execution_count": null,
      "metadata": {
        "colab": {
          "base_uri": "https://localhost:8080/"
        },
        "id": "mOc78q2JX8RO",
        "outputId": "dce197d0-4c48-4a0b-f822-66abe8082d7e"
      },
      "outputs": [
        {
          "output_type": "execute_result",
          "data": {
            "text/plain": [
              "[('Durant', 2),\n",
              " ('two', 2),\n",
              " ('BOSTON', 1),\n",
              " ('Kevin Durant', 1),\n",
              " ('Wednesday', 1),\n",
              " ('Saran', 1),\n",
              " ('only five', 1),\n",
              " ('three', 1),\n",
              " ('11 p.m.', 1),\n",
              " ('114', 1)]"
            ]
          },
          "metadata": {},
          "execution_count": 55
        }
      ],
      "source": [
        "items = [x.text for x in article.ents]\n",
        "Counter(items).most_common(10)"
      ]
    },
    {
      "cell_type": "code",
      "execution_count": null,
      "metadata": {
        "colab": {
          "base_uri": "https://localhost:8080/"
        },
        "id": "RDVHr_dkX8RO",
        "outputId": "56edcf7a-b464-4a95-887c-5245b1ebb4ae"
      },
      "outputs": [
        {
          "output_type": "stream",
          "name": "stdout",
          "text": [
            "They were on the perimeter, and in the paint, and at the elbow.\n"
          ]
        }
      ],
      "source": [
        "sentences = [x for x in article.sents]\n",
        "print(sentences[3])"
      ]
    },
    {
      "cell_type": "markdown",
      "source": [
        "И конечно красивая разметка."
      ],
      "metadata": {
        "id": "D-TPOGlXdcbA"
      }
    },
    {
      "cell_type": "code",
      "execution_count": null,
      "metadata": {
        "colab": {
          "base_uri": "https://localhost:8080/",
          "height": 297
        },
        "id": "PpbNrdHvX8RP",
        "outputId": "cf6eae69-42ab-4443-c5a0-e9fca3c5b81a"
      },
      "outputs": [
        {
          "output_type": "display_data",
          "data": {
            "text/plain": [
              "<IPython.core.display.HTML object>"
            ],
            "text/html": [
              "<span class=\"tex2jax_ignore\"><div class=\"entities\" style=\"line-height: 2.5; direction: ltr\">[\n",
              "<mark class=\"entity\" style=\"background: #feca74; padding: 0.45em 0.6em; margin: 0 0.25em; line-height: 1; border-radius: 0.35em;\">\n",
              "    BOSTON\n",
              "    <span style=\"font-size: 0.8em; font-weight: bold; line-height: 1; border-radius: 0.35em; vertical-align: middle; margin-left: 0.5rem\">GPE</span>\n",
              "</mark>\n",
              " — \n",
              "<mark class=\"entity\" style=\"background: #aa9cfc; padding: 0.45em 0.6em; margin: 0 0.25em; line-height: 1; border-radius: 0.35em;\">\n",
              "    Kevin Durant\n",
              "    <span style=\"font-size: 0.8em; font-weight: bold; line-height: 1; border-radius: 0.35em; vertical-align: middle; margin-left: 0.5rem\">PERSON</span>\n",
              "</mark>\n",
              " had no room., He admitted as much., Whenever he had the ball against the Celtics on \n",
              "<mark class=\"entity\" style=\"background: #bfe1d9; padding: 0.45em 0.6em; margin: 0 0.25em; line-height: 1; border-radius: 0.35em;\">\n",
              "    Wednesday\n",
              "    <span style=\"font-size: 0.8em; font-weight: bold; line-height: 1; border-radius: 0.35em; vertical-align: middle; margin-left: 0.5rem\">DATE</span>\n",
              "</mark>\n",
              " night, and even when he did not, defenders were crowding his space, shadowing him, draping themselves all over him like \n",
              "<mark class=\"entity\" style=\"background: #bfeeb7; padding: 0.45em 0.6em; margin: 0 0.25em; line-height: 1; border-radius: 0.35em;\">\n",
              "    Saran\n",
              "    <span style=\"font-size: 0.8em; font-weight: bold; line-height: 1; border-radius: 0.35em; vertical-align: middle; margin-left: 0.5rem\">PRODUCT</span>\n",
              "</mark>\n",
              " wrap., They were on the perimeter, and in the paint, and at the elbow., How was it possible that \n",
              "<mark class=\"entity\" style=\"background: #e4e7d2; padding: 0.45em 0.6em; margin: 0 0.25em; line-height: 1; border-radius: 0.35em;\">\n",
              "    only five\n",
              "    <span style=\"font-size: 0.8em; font-weight: bold; line-height: 1; border-radius: 0.35em; vertical-align: middle; margin-left: 0.5rem\">CARDINAL</span>\n",
              "</mark>\n",
              " of them were on the court at once?, “They’re mucking up actions when I run off stuff,” said \n",
              "<mark class=\"entity\" style=\"background: #aa9cfc; padding: 0.45em 0.6em; margin: 0 0.25em; line-height: 1; border-radius: 0.35em;\">\n",
              "    Durant\n",
              "    <span style=\"font-size: 0.8em; font-weight: bold; line-height: 1; border-radius: 0.35em; vertical-align: middle; margin-left: 0.5rem\">PERSON</span>\n",
              "</mark>\n",
              ", who singled out the Celtics’ Al Horford for “leaving his man to come over and hit me sometimes.”, \n",
              "<mark class=\"entity\" style=\"background: #aa9cfc; padding: 0.45em 0.6em; margin: 0 0.25em; line-height: 1; border-radius: 0.35em;\">\n",
              "    Durant\n",
              "    <span style=\"font-size: 0.8em; font-weight: bold; line-height: 1; border-radius: 0.35em; vertical-align: middle; margin-left: 0.5rem\">PERSON</span>\n",
              "</mark>\n",
              " went on: “Just \n",
              "<mark class=\"entity\" style=\"background: #e4e7d2; padding: 0.45em 0.6em; margin: 0 0.25em; line-height: 1; border-radius: 0.35em;\">\n",
              "    two\n",
              "    <span style=\"font-size: 0.8em; font-weight: bold; line-height: 1; border-radius: 0.35em; vertical-align: middle; margin-left: 0.5rem\">CARDINAL</span>\n",
              "</mark>\n",
              " or \n",
              "<mark class=\"entity\" style=\"background: #e4e7d2; padding: 0.45em 0.6em; margin: 0 0.25em; line-height: 1; border-radius: 0.35em;\">\n",
              "    three\n",
              "    <span style=\"font-size: 0.8em; font-weight: bold; line-height: 1; border-radius: 0.35em; vertical-align: middle; margin-left: 0.5rem\">CARDINAL</span>\n",
              "</mark>\n",
              " guys hitting me wherever I go., And that’s just the nature of the beast in the playoffs.”, It was nearing \n",
              "<mark class=\"entity\" style=\"background: #bfe1d9; padding: 0.45em 0.6em; margin: 0 0.25em; line-height: 1; border-radius: 0.35em;\">\n",
              "    11 p.m.\n",
              "    <span style=\"font-size: 0.8em; font-weight: bold; line-height: 1; border-radius: 0.35em; vertical-align: middle; margin-left: 0.5rem\">TIME</span>\n",
              "</mark>\n",
              " as \n",
              "<mark class=\"entity\" style=\"background: #aa9cfc; padding: 0.45em 0.6em; margin: 0 0.25em; line-height: 1; border-radius: 0.35em;\">\n",
              "    Durant\n",
              "    <span style=\"font-size: 0.8em; font-weight: bold; line-height: 1; border-radius: 0.35em; vertical-align: middle; margin-left: 0.5rem\">PERSON</span>\n",
              "</mark>\n",
              " offered up his post-mortem of the Nets’ \n",
              "<mark class=\"entity\" style=\"background: #e4e7d2; padding: 0.45em 0.6em; margin: 0 0.25em; line-height: 1; border-radius: 0.35em;\">\n",
              "    114\n",
              "    <span style=\"font-size: 0.8em; font-weight: bold; line-height: 1; border-radius: 0.35em; vertical-align: middle; margin-left: 0.5rem\">CARDINAL</span>\n",
              "</mark>\n",
              "-107 loss to \n",
              "<mark class=\"entity\" style=\"background: #7aecec; padding: 0.45em 0.6em; margin: 0 0.25em; line-height: 1; border-radius: 0.35em;\">\n",
              "    the Celtics in Game 2\n",
              "    <span style=\"font-size: 0.8em; font-weight: bold; line-height: 1; border-radius: 0.35em; vertical-align: middle; margin-left: 0.5rem\">ORG</span>\n",
              "</mark>\n",
              " of their \n",
              "<mark class=\"entity\" style=\"background: #e4e7d2; padding: 0.45em 0.6em; margin: 0 0.25em; line-height: 1; border-radius: 0.35em;\">\n",
              "    first\n",
              "    <span style=\"font-size: 0.8em; font-weight: bold; line-height: 1; border-radius: 0.35em; vertical-align: middle; margin-left: 0.5rem\">ORDINAL</span>\n",
              "</mark>\n",
              "-round playoff series, and he did not necessarily seem concerned., In fact, his analysis came off as dispassionate: Here were the facts, and it was his job to remedy the issues as the Nets seek to rebound from their \n",
              "<mark class=\"entity\" style=\"background: #e4e7d2; padding: 0.45em 0.6em; margin: 0 0.25em; line-height: 1; border-radius: 0.35em;\">\n",
              "    two\n",
              "    <span style=\"font-size: 0.8em; font-weight: bold; line-height: 1; border-radius: 0.35em; vertical-align: middle; margin-left: 0.5rem\">CARDINAL</span>\n",
              "</mark>\n",
              "-games-to-none deficit in the best-of-seven series., It heads to \n",
              "<mark class=\"entity\" style=\"background: #feca74; padding: 0.45em 0.6em; margin: 0 0.25em; line-height: 1; border-radius: 0.35em;\">\n",
              "    Brooklyn\n",
              "    <span style=\"font-size: 0.8em; font-weight: bold; line-height: 1; border-radius: 0.35em; vertical-align: middle; margin-left: 0.5rem\">GPE</span>\n",
              "</mark>\n",
              " for Game 3 on \n",
              "<mark class=\"entity\" style=\"background: #bfe1d9; padding: 0.45em 0.6em; margin: 0 0.25em; line-height: 1; border-radius: 0.35em;\">\n",
              "    Saturday\n",
              "    <span style=\"font-size: 0.8em; font-weight: bold; line-height: 1; border-radius: 0.35em; vertical-align: middle; margin-left: 0.5rem\">DATE</span>\n",
              "</mark>\n",
              " \n",
              "<mark class=\"entity\" style=\"background: #bfe1d9; padding: 0.45em 0.6em; margin: 0 0.25em; line-height: 1; border-radius: 0.35em;\">\n",
              "    night\n",
              "    <span style=\"font-size: 0.8em; font-weight: bold; line-height: 1; border-radius: 0.35em; vertical-align: middle; margin-left: 0.5rem\">TIME</span>\n",
              "</mark>\n",
              "., “It’s on me to just finish it and figure it out,” he said., “I’m not expecting my teammates or the defense to give me anything., I just got to go out there and play.”]</div></span>"
            ]
          },
          "metadata": {}
        }
      ],
      "source": [
        "displacy.render(nlp(str(sentences)), jupyter=True, style='ent')"
      ]
    },
    {
      "cell_type": "code",
      "execution_count": null,
      "metadata": {
        "id": "23vBJwpcX8RQ"
      },
      "outputs": [],
      "source": []
    },
    {
      "cell_type": "markdown",
      "source": [
        "# FAQ\n",
        "\n",
        "### Почему не обучаем свою модель в практике?\n",
        "\n",
        "Есть смысл только начиная с BERT"
      ],
      "metadata": {
        "id": "w5Rgnn09jiI2"
      }
    },
    {
      "cell_type": "code",
      "source": [],
      "metadata": {
        "id": "Tl8PTn_ajjPm"
      },
      "execution_count": null,
      "outputs": []
    }
  ],
  "metadata": {
    "kernelspec": {
      "display_name": "Python 3",
      "language": "python",
      "name": "python3"
    },
    "language_info": {
      "codemirror_mode": {
        "name": "ipython",
        "version": 3
      },
      "file_extension": ".py",
      "mimetype": "text/x-python",
      "name": "python",
      "nbconvert_exporter": "python",
      "pygments_lexer": "ipython3",
      "version": "3.6.4"
    },
    "toc-autonumbering": false,
    "colab": {
      "provenance": []
    }
  },
  "nbformat": 4,
  "nbformat_minor": 0
}