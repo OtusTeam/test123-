{
 "cells": [
  {
   "cell_type": "code",
   "execution_count": 1,
   "id": "7a018c8f-dae7-4b05-9cdb-5929eed07fd7",
   "metadata": {},
   "outputs": [],
   "source": [
    "import json\n",
    "from datetime import datetime, timedelta\n",
    "import os\n",
    "\n",
    "from tqdm import tqdm\n",
    "from dotenv import load_dotenv"
   ]
  },
  {
   "cell_type": "code",
   "execution_count": 2,
   "id": "23270ff7-00b2-443e-85a9-30ca7f4f7e9c",
   "metadata": {},
   "outputs": [
    {
     "data": {
      "text/plain": [
       "True"
      ]
     },
     "execution_count": 2,
     "metadata": {},
     "output_type": "execute_result"
    }
   ],
   "source": [
    "load_dotenv('env')"
   ]
  },
  {
   "cell_type": "code",
   "execution_count": 3,
   "id": "23ad812d-f0d6-4c93-84da-e0988a361857",
   "metadata": {},
   "outputs": [],
   "source": [
    "token = os.environ['GIGACHAT_TOKEN']\n",
    "\n",
    "from gigachat import GigaChat\n",
    "import gigachat.context\n",
    "from gigachat.models import Chat, Messages, MessagesRole \n",
    "\n",
    "giga = GigaChat(\n",
    "    base_url=\"https://gigachat.devices.sberbank.ru/api/v1/\",\n",
    "    credentials=token,\n",
    "    model = \"GigaChat-Max\",\n",
    "    verify_ssl_certs=False,\n",
    ")"
   ]
  },
  {
   "cell_type": "code",
   "execution_count": null,
   "id": "d091e2dd-22e9-4491-981f-cc8305b7bc75",
   "metadata": {},
   "outputs": [],
   "source": []
  },
  {
   "cell_type": "code",
   "execution_count": 4,
   "id": "bda309cc-5820-4e03-a802-9ccfb89090c8",
   "metadata": {},
   "outputs": [],
   "source": [
    "def make_q1(dialog):\n",
    "    sys_message = \"\"\"Ты ассистент по юридическим вопросам. Тебе предлагается фрагмент диалога пользователя с юристом. \n",
    "Твоя задача извлечь из фрагмента диалога основную информацию. Извлекай информацию в формате JSON.\n",
    "\n",
    "Спецификация полей:\n",
    "problem: str - основная проблема пользователя одной фразой с указанием деталей ситуации.\n",
    "aspects: Array<str> - упомянутые проблемы вытекающие из первой у пользователя (те второстепенные вопросы, которые пользователя тревожат)\n",
    "keywords: Array<str> - список ключевых слов или фраз максимально характеризующие проблему и ситуацию пользователя\n",
    "situation_abstraction: str - максимально полное описание ситуации клиента на основе диалога\n",
    "query: str - поисковый запрос к справочной правовой системе, который надо задать в поиск правовой системы, чтобы найти ответ на ситуацию пользователя\n",
    "\"\"\"\n",
    "    payload = Chat(\n",
    "        messages=[\n",
    "            Messages(\n",
    "                role=MessagesRole.SYSTEM,\n",
    "                content=sys_message\n",
    "            )\n",
    "        ],\n",
    "        temperature=1.,\n",
    "        top_p=0.,\n",
    "        repetion_penalty = 1.,\n",
    "        max_tokens=1000,\n",
    "        profanity_check=False\n",
    "    )\n",
    "\n",
    "    user_prompt = f\"\"\"Твоя задача извлечь из фрагмента диалога основную информацию согласно структуре указанной в системном промпте. Извлекай информацию в формате JSON.\n",
    "<dialog>{dialog}</dialog>\"\"\"\n",
    "    \n",
    "    \n",
    "    payload.messages.append(Messages(role=MessagesRole.USER, content=user_prompt))\n",
    "    \n",
    "    start_time = datetime.now()\n",
    "    \n",
    "    response = giga.chat(payload)\n",
    "\n",
    "    return response.choices[0].message.content"
   ]
  },
  {
   "cell_type": "code",
   "execution_count": 5,
   "id": "8cacb2b7-aa74-4186-aaee-7c66a3cdaef2",
   "metadata": {},
   "outputs": [
    {
     "name": "stdout",
     "output_type": "stream",
     "text": [
      "Доброе утро. Вопрос касается налогообложения физического лица. По договору дарения я получил жилой дом в 2015г. В 2021г голу купили квартиру в собственность совместно супругой (50/50). Сейчас планируем продать квартиру. Вопрос. Как вообще мне нужно будет платить налог с продажи квартиры? Будет ли считаться мой жилой дом, которую мне подарили как первое жильё? Думали что при продажи квартиры по истечении трёх лет с момента покупки квартиры не нужно будет платить налоги... Прошу ответить.\n"
     ]
    }
   ],
   "source": [
    "dialog = \"\"\"Доброе утро. Вопрос касается налогообложения физического лица. По договору дарения я получил жилой дом в 2015г. В 2021г голу купили квартиру в собственность совместно супругой (50/50). Сейчас планируем продать квартиру. Вопрос. Как вообще мне нужно будет платить налог с продажи квартиры? Будет ли считаться мой жилой дом, которую мне подарили как первое жильё? Думали что при продажи квартиры по истечении трёх лет с момента покупки квартиры не нужно будет платить налоги... Прошу ответить.\"\"\"\n",
    "\n",
    "print(dialog)"
   ]
  },
  {
   "cell_type": "code",
   "execution_count": 10,
   "id": "ff6af8b9-d6b6-4d4e-b05d-122b1b4a8cba",
   "metadata": {},
   "outputs": [],
   "source": [
    "res = make_q1(dialog)"
   ]
  },
  {
   "cell_type": "code",
   "execution_count": 11,
   "id": "e1732e4b-2b67-4e44-af8f-d095d146990f",
   "metadata": {},
   "outputs": [
    {
     "name": "stdout",
     "output_type": "stream",
     "text": [
      "{\n",
      "  \"problem\": \"Налогообложение при продаже квартиры\",\n",
      "  \"aspects\": [\n",
      "    \"Учет жилого дома, полученного в дар, как первого жилья\",\n",
      "    \"Освобождение от уплаты налогов после трех лет владения квартирой\"\n",
      "  ],\n",
      "  \"keywords\": [\n",
      "    \"налог\", \n",
      "    \"продажа квартиры\", \n",
      "    \"жилой дом\", \n",
      "    \"дарение\", \n",
      "    \"совместная собственность\", \n",
      "    \"освобождение от налога\"\n",
      "  ],\n",
      "  \"situation_abstraction\": \"Физическое лицо получило в дар жилой дом в 2015 году и в 2021 году купило квартиру в совместную собственность со своей супругой. Теперь они планируют продать эту квартиру и интересуются, каким образом им придется уплачивать налог с ее продажи, а также учитывается ли полученный ранее в дар жилой дом как их первое жилье.\",\n",
      "  \"query\": \"Налоги при продаже квартиры, полученной в совместной собственности, освобождение от налогов через три года владения\"\n",
      "}\n"
     ]
    }
   ],
   "source": [
    "print(res)"
   ]
  },
  {
   "cell_type": "code",
   "execution_count": null,
   "id": "ebae7274-9001-42e9-9404-21eea37888d7",
   "metadata": {},
   "outputs": [],
   "source": []
  },
  {
   "cell_type": "code",
   "execution_count": null,
   "id": "ecf4685b-8586-45a6-ab19-dcc43a183d26",
   "metadata": {},
   "outputs": [],
   "source": []
  }
 ],
 "metadata": {
  "kernelspec": {
   "display_name": "Python 3 (ipykernel)",
   "language": "python",
   "name": "python3"
  },
  "language_info": {
   "codemirror_mode": {
    "name": "ipython",
    "version": 3
   },
   "file_extension": ".py",
   "mimetype": "text/x-python",
   "name": "python",
   "nbconvert_exporter": "python",
   "pygments_lexer": "ipython3",
   "version": "3.10.12"
  }
 },
 "nbformat": 4,
 "nbformat_minor": 5
}
